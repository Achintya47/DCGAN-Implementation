{
 "cells": [
  {
   "cell_type": "code",
   "execution_count": null,
   "id": "a8386f0e",
   "metadata": {},
   "outputs": [],
   "source": [
    "import torch\n",
    "import torch.nn as nn\n",
    "import torch.optim as optim\n",
    "import torch.utils.data\n",
    "import torchvision.datasets as dataset\n",
    "import torchvision.transforms as transforms\n",
    "import torchvision.utils as vuitils\n",
    "import numpy as np\n",
    "import torch.nn.parallel"
   ]
  },
  {
   "cell_type": "code",
   "execution_count": null,
   "id": "7dfaea5c",
   "metadata": {},
   "outputs": [],
   "source": [
    "data_root=\"data/celeba\"\n",
    "\n",
    "workers = 2\n",
    "\n",
    "batch_size = 128\n",
    "\n",
    "image_size = 64\n",
    "\n",
    "n_channel = 3\n",
    "\n",
    "n_z_vector = 100\n",
    "\n",
    "n_feature_generator = 64\n",
    "\n",
    "epochs = 5\n",
    "\n",
    "lr = 0.002\n",
    "\n",
    "beta1 = 0.5\n",
    "\n",
    "ngpu = 0"
   ]
  },
  {
   "cell_type": "markdown",
   "id": "1446999a",
   "metadata": {},
   "source": []
  }
 ],
 "metadata": {
  "language_info": {
   "name": "python"
  }
 },
 "nbformat": 4,
 "nbformat_minor": 5
}
